{
 "cells": [
  {
   "attachments": {},
   "cell_type": "markdown",
   "metadata": {
    "collapsed": false
   },
   "source": [
    "<a href=\"https://colab.research.google.com/github/GiorgiaAuroraAdorni/ML-bachelor-course-assignments-sp23/blob/main/assignment%201/deliverable/example.ipynb\" target=\"_parent\"><img src=\"https://colab.research.google.com/assets/colab-badge.svg\" alt=\"Open In Colab\"/></a>"
   ]
  },
  {
   "attachments": {},
   "cell_type": "markdown",
   "metadata": {},
   "source": [
    "# Assignment 1 - Coding Tasks\n",
    "## Student: Marco Farace\n",
    "\n",
    "--- \n",
    "### Cells Index:\n",
    "- Imports\n",
    "- Task 1\n",
    "- Task 2\n",
    "- Task 3"
   ]
  },
  {
   "attachments": {},
   "cell_type": "markdown",
   "metadata": {},
   "source": [
    "### Necessary imports for the following cells"
   ]
  },
  {
   "cell_type": "code",
   "execution_count": null,
   "metadata": {},
   "outputs": [],
   "source": [
    "# Numpy for numerical computing\n",
    "import numpy as np\n",
    "\n",
    "# tensorflow and keras for neural networks\n",
    "import tensorflow as tf\n",
    "from tensorflow import keras\n",
    "from tensorflow.keras import layers\n",
    "\n",
    "# scikit-learn for methods and tools for machine learning\n",
    "from sklearn.pipeline import make_pipeline\n",
    "from sklearn.metrics import mean_squared_error\n",
    "from sklearn.linear_model import LinearRegression\n",
    "from sklearn.preprocessing import PolynomialFeatures\n",
    "from sklearn.model_selection import train_test_split"
   ]
  },
  {
   "attachments": {},
   "cell_type": "markdown",
   "metadata": {},
   "source": [
    "### Global Data and Variables"
   ]
  },
  {
   "cell_type": "code",
   "execution_count": null,
   "metadata": {},
   "outputs": [],
   "source": [
    "# Load the data\n",
    "data = np.load('data/data.npz')\n",
    "x_train = data['x_train']\n",
    "y_train = data['y_train']\n",
    "x_test = data['x_test']\n",
    "y_test = data['y_test']"
   ]
  },
  {
   "attachments": {},
   "cell_type": "markdown",
   "metadata": {},
   "source": [
    "### Task 1\n",
    "\n",
    "---\n",
    "Used the family of models \n",
    "\n",
    "`f(x, θ) = θ₀ + θ₁ * x₁ + θ₂ * x₂ + θ₃ * sin(x₂) + θ₄ * x₁ * x₂ ` \n",
    "\n",
    "to fit the data:\n",
    "\n",
    "- Core of the Procedure:\n",
    "    - Fit the model to the data\n",
    "    - Evaluate (θ₀, ..., θ₄)\n",
    "    - Evaluate the model using MSE\n"
   ]
  },
  {
   "cell_type": "code",
   "execution_count": null,
   "metadata": {},
   "outputs": [],
   "source": [
    "# Define the family of models\n",
    "def model(x, theta):\n",
    "    return theta[0] + theta[1] * x[:, 0] + theta[2] * x[:, 1] + \\\n",
    "           theta[3] * np.sin(x[:, 1]) + theta[4] * x[:, 0] * x[:, 1]\n",
    "\n",
    "# Fit the model\n",
    "model_pipeline = make_pipeline(PolynomialFeatures(degree=2, include_bias=False), LinearRegression())\n",
    "model_pipeline.fit(x_train, y_train)\n",
    "theta_hat = np.concatenate(([model_pipeline.named_steps['linearregression'].intercept_], model_pipeline.named_steps['linearregression'].coef_))\n",
    "\n",
    "# Compute the predictions on the test set\n",
    "y_pred = model(x_test, theta_hat)\n",
    "\n",
    "# Compute the mean squared error on the test set\n",
    "linear_mse = mean_squared_error(y_test, y_pred)\n",
    "\n",
    "# Print the formula of the model\n",
    "formula = f\"y = {theta_hat[0]:.3f} + {theta_hat[1]:.3f} * x1 + {theta_hat[2]:.3f} * x2 + {theta_hat[3]:.3f} * sin(x2) + {theta_hat[4]:.3f} * x1 * x2\"\n",
    "print(\"Formula of the model:\", formula)\n",
    "\n",
    "# Print the MSE\n",
    "print(\"Test MSE:\", linear_mse)"
   ]
  },
  {
   "attachments": {},
   "cell_type": "markdown",
   "metadata": {},
   "source": [
    "### T2.\n",
    "\n",
    "---\n",
    "For this task, I used a keras neural network model to address the above regression problem:\n",
    "\n",
    "- Core of the Procedure\n",
    "    - Define and compile the keras model\n",
    "    - Fit the model to the data\n",
    "    - Compute predictions\n",
    "    - Evaluate the model using MSE\n",
    "    - Comparison with Task 1 Model"
   ]
  },
  {
   "cell_type": "code",
   "execution_count": null,
   "metadata": {},
   "outputs": [],
   "source": [
    "# Define the neural network model\n",
    "model = keras.Sequential([\n",
    "    layers.Dense(64, activation='relu', input_shape=[2]),\n",
    "    layers.Dense(64, activation='relu'),\n",
    "    layers.Dense(1)\n",
    "])\n",
    "\n",
    "# Compile the model\n",
    "model.compile(loss='mean_squared_error', optimizer=tf.keras.optimizers.Adam())\n",
    "\n",
    "# Fit the model\n",
    "history = model.fit(x_train, y_train, validation_split=0.2, epochs=100, verbose=0)\n",
    "\n",
    "# Compute the predictions on the test set\n",
    "y_pred = model.predict(x_test).flatten()\n",
    "\n",
    "# Compute the mean squared error on the test set\n",
    "neural_mse = mean_squared_error(y_test, y_pred)\n",
    "\n",
    "# Print the test MSE\n",
    "print(\"Test MSE:\", mse)\n",
    "\n",
    "# Compare with the linear regression model from task 1\n",
    "t_statistic, p_value = stats.ttest_ind(y_test, y_pred)\n",
    "print(\"p-value of the t-test:\", p_value)\n",
    "if neural_mse < linear_mse:\n",
    "    print(\"The non-linear model is statistically better.\")\n",
    "else if linear_mse == neural_mse:\n",
    "    print(\"The models are statistically equal.\") # Not likely :)\n",
    "else:\n",
    "    print(\"The linear model is statistically better.\")"
   ]
  }
 ],
 "metadata": {
  "kernelspec": {
   "display_name": "Python 3",
   "language": "python",
   "name": "python3"
  },
  "language_info": {
   "codemirror_mode": {
    "name": "ipython",
    "version": 3
   },
   "file_extension": ".py",
   "mimetype": "text/x-python",
   "name": "python",
   "nbconvert_exporter": "python",
   "pygments_lexer": "ipython3",
   "version": "3.10.9"
  },
  "orig_nbformat": 4
 },
 "nbformat": 4,
 "nbformat_minor": 2
}
