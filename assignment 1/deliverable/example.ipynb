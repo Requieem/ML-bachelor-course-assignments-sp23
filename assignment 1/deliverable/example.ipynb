{
 "cells": [
  {
   "attachments": {},
   "cell_type": "markdown",
   "metadata": {
    "collapsed": false
   },
   "source": [
    "<a href=\"https://colab.research.google.com/github/GiorgiaAuroraAdorni/ML-bachelor-course-assignments-sp23/blob/main/assignment%201/deliverable/example.ipynb\" target=\"_parent\"><img src=\"https://colab.research.google.com/assets/colab-badge.svg\" alt=\"Open In Colab\"/></a>"
   ]
  },
  {
   "attachments": {},
   "cell_type": "markdown",
   "metadata": {},
   "source": [
    "# Assignment 1\n",
    "Student: Name Surname\n",
    "\n",
    "--- \n",
    "# IMPORTANT: all the submitted code should be in 2 cells\n",
    "1) How you trained, evaluated and saved your model\n",
    "2) How to load your model from a file, load the data and evaluate the model. Cell 2) should be running independently (even if cell 1 is not run)"
   ]
  },
  {
   "cell_type": "code",
   "execution_count": null,
   "metadata": {},
   "outputs": [],
   "source": [
    "# Import libraries\n",
    "import io\n",
    "import requests\n",
    "import numpy as np\n",
    "\n",
    "# Load data \n",
    "url = 'https://drive.switch.ch/index.php/s/TeDwnbYsBKRuJjv/download'\n",
    "response = requests.get(url)\n",
    "data = np.load(io.BytesIO(response.content))\n",
    "\n",
    "# Alternatively yo can load the data from file\n",
    "# data_path = '../data/data.npz' # path to the .npz file storing the data\n",
    "# data = np.load(data_path)\n",
    "\n",
    "# x is a Numpy array of shape (n_samples, n_features) with the inputs\n",
    "x = data.f.x\n",
    "# y is a Numpy array of shape (n_samples, ) with the targets\n",
    "y = data.f.y\n",
    "\n",
    "# T1\n",
    "\n",
    "print(\"theta: \")\n",
    "print(\"Mean squared error: \")\n",
    "\n",
    "# T2\n",
    "\n",
    "print(\"Everything useful\")\n",
    "\n"
   ]
  },
  {
   "attachments": {},
   "cell_type": "markdown",
   "metadata": {},
   "source": [
    "# Example on how to use baseline model:"
   ]
  },
  {
   "cell_type": "code",
   "execution_count": null,
   "metadata": {},
   "outputs": [],
   "source": [
    "# Import libraries\n",
    "import joblib\n",
    "import io\n",
    "import requests\n",
    "import numpy as np\n",
    "\n",
    "def evaluate_predictions(y_true, y_pred):\n",
    "    \"\"\"\n",
    "    Evaluates the mean squared error between the values in y_true and the values\n",
    "    in y_pred.\n",
    "    ### YOU CAN NOT EDIT THIS FUNCTION ###\n",
    "    :param y_true: Numpy array, the true target values from the test set;\n",
    "    :param y_pred: Numpy array, the values predicted by your model.\n",
    "    :return: float, the mean squared error between the two arrays.\n",
    "    \"\"\"\n",
    "    assert y_true.shape == y_pred.shape\n",
    "    return ((y_true - y_pred) ** 2).mean()\n",
    "\n",
    "\n",
    "def load_model(filename):\n",
    "    \"\"\"\n",
    "    Loads a Scikit-learn model saved with joblib.dump.\n",
    "    This is just an example, you can write your own function to load the model.\n",
    "    Some examples can be found in src/utils.py.\n",
    "    :param filename: string, path to the file storing the model.\n",
    "    :return: the model.\n",
    "    \"\"\"\n",
    "    model = joblib.load(filename)\n",
    "\n",
    "    return model\n",
    "\n",
    "# Load the data\n",
    "# This will be replaced with our private test data when grading the assignment\n",
    "\n",
    "# Load data from url\n",
    "url = 'https://drive.switch.ch/index.php/s/TeDwnbYsBKRuJjv/download'\n",
    "response = requests.get(url)\n",
    "data = np.load(io.BytesIO(response.content))\n",
    "\n",
    "# Alternatively yo can load the data from file\n",
    "# data_path = '../data/data.npz'\n",
    "# data = np.load(data_path)\n",
    "\n",
    "# x is a Numpy array of shape (n_samples, n_features) with the inputs\n",
    "x = data.f.x\n",
    "# y is a Numpy array of shape (n_samples, ) with the targets\n",
    "y = data.f.y\n",
    "\n",
    "# Load the trained model\n",
    "baseline_model_path = './baseline_model.pickle'\n",
    "baseline_model = load_model(baseline_model_path)\n",
    "\n",
    "# Change input\n",
    "x = ...\n",
    "\n",
    "# Predict on the given samples\n",
    "y_pred = baseline_model.predict(x)\n",
    "\n",
    "############################################################################\n",
    "# STOP EDITABLE SECTION: do not modify anything below this point.\n",
    "############################################################################\n",
    "\n",
    "# Evaluate the prediction using MSE\n",
    "mse = evaluate_predictions(y_pred, y)\n",
    "print(f'MSE on whole dataset: {mse}')\n",
    "\n",
    "# NOTE: NOW THIS CELL IS NOT WORKING SINCE YOU NEED TO CHANGE THE INPUT.\n",
    "# DO IT AND EVERYTHING RUNS SMOOTH\n"
   ]
  }
 ],
 "metadata": {
  "kernelspec": {
   "display_name": "Python 3",
   "language": "python",
   "name": "python3"
  },
  "language_info": {
   "codemirror_mode": {
    "name": "ipython",
    "version": 3
   },
   "file_extension": ".py",
   "mimetype": "text/x-python",
   "name": "python",
   "nbconvert_exporter": "python",
   "pygments_lexer": "ipython3",
   "version": "3.10.9"
  },
  "orig_nbformat": 4
 },
 "nbformat": 4,
 "nbformat_minor": 2
}
